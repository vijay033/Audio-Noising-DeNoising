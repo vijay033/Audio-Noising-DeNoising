{
 "cells": [
  {
   "cell_type": "markdown",
   "metadata": {},
   "source": [
    "# Prepare Dataset For Pix2Pix GAN Network"
   ]
  },
  {
   "cell_type": "code",
   "execution_count": 1,
   "metadata": {},
   "outputs": [],
   "source": [
    "import numpy as np\n",
    "import matplotlib.pyplot as plt\n",
    "import numpy as np\n",
    "import os\n",
    "from scipy.stats import norm\n",
    "import pandas as pd\n",
    "\n",
    "%matplotlib inline\n",
    "import IPython.display\n",
    "from ipywidgets import interact, interactive, fixed"
   ]
  },
  {
   "cell_type": "code",
   "execution_count": 2,
   "metadata": {},
   "outputs": [],
   "source": [
    "# Packages we're using\n",
    "import numpy as np\n",
    "import matplotlib.pyplot as plt\n",
    "import copy\n",
    "from scipy.io import wavfile\n",
    "from scipy.signal import butter, lfilter\n",
    "import scipy.ndimage"
   ]
  },
  {
   "cell_type": "code",
   "execution_count": 3,
   "metadata": {},
   "outputs": [],
   "source": [
    "import warnings\n",
    "warnings.filterwarnings('ignore')"
   ]
  },
  {
   "cell_type": "code",
   "execution_count": 4,
   "metadata": {},
   "outputs": [],
   "source": [
    "os.environ['TF_FORCE_GPU_ALLOW_GROWTH'] = 'true'"
   ]
  },
  {
   "cell_type": "markdown",
   "metadata": {},
   "source": [
    "# Try \n",
    "https://github.com/sikora507/elgen/blob/master/src/audio%20analysis.ipynb"
   ]
  },
  {
   "cell_type": "code",
   "execution_count": 5,
   "metadata": {},
   "outputs": [],
   "source": [
    "import numpy as np\n",
    "import math\n",
    "from PIL import Image\n",
    "import time"
   ]
  },
  {
   "cell_type": "code",
   "execution_count": 6,
   "metadata": {},
   "outputs": [],
   "source": [
    "FFT_LENGTH = 512\n",
    "WINDOW_LENGTH = 512\n",
    "WINDOW_STEP = int(WINDOW_LENGTH / 2)\n",
    "magnitudeMin = float(\"inf\")\n",
    "magnitudeMax = float(\"-inf\")\n",
    "phaseMin = float(\"inf\")\n",
    "phaseMax = float(\"-inf\")"
   ]
  },
  {
   "cell_type": "code",
   "execution_count": 7,
   "metadata": {},
   "outputs": [],
   "source": [
    "def amplifyMagnitudeByLog(d):\n",
    "    return 188.301 * math.log10(d + 1)\n",
    "\n",
    "def weakenAmplifiedMagnitude(d):\n",
    "    return math.pow(10, d/188.301)-1\n",
    "\n",
    "def generateLinearScale(magnitudePixels, phasePixels, \n",
    "                        magnitudeMin, magnitudeMax, phaseMin, phaseMax):\n",
    "    height = magnitudePixels.shape[0]\n",
    "    width = magnitudePixels.shape[1]\n",
    "    magnitudeRange = magnitudeMax - magnitudeMin\n",
    "    phaseRange = phaseMax - phaseMin\n",
    "    rgbArray = np.zeros((height, width, 3), 'uint8')\n",
    "    \n",
    "    for w in range(width):\n",
    "        for h in range(height):\n",
    "            magnitudePixels[h,w] = (magnitudePixels[h,w] - magnitudeMin) / (magnitudeRange) * 255 * 2\n",
    "            magnitudePixels[h,w] = amplifyMagnitudeByLog(magnitudePixels[h,w])\n",
    "            phasePixels[h,w] = (phasePixels[h,w] - phaseMin) / (phaseRange) * 255\n",
    "            red = 255 if magnitudePixels[h,w] > 255 else magnitudePixels[h,w]\n",
    "            green = (magnitudePixels[h,w] - 255) if magnitudePixels[h,w] > 255 else 0\n",
    "            blue = phasePixels[h,w]\n",
    "            rgbArray[h,w,0] = int(red)\n",
    "            rgbArray[h,w,1] = int(green)\n",
    "            rgbArray[h,w,2] = int(blue)\n",
    "    return rgbArray\n",
    "\n",
    "def recoverLinearScale(rgbArray, magnitudeMin, magnitudeMax, \n",
    "                       phaseMin, phaseMax):\n",
    "    width = rgbArray.shape[1]\n",
    "    height = rgbArray.shape[0]\n",
    "    magnitudeVals = rgbArray[:,:,0].astype(float) + rgbArray[:,:,1].astype(float)\n",
    "    phaseVals = rgbArray[:,:,2].astype(float)\n",
    "    phaseRange = phaseMax - phaseMin\n",
    "    magnitudeRange = magnitudeMax - magnitudeMin\n",
    "    for w in range(width):\n",
    "        for h in range(height):\n",
    "            phaseVals[h,w] = (phaseVals[h,w] / 255 * phaseRange) + phaseMin\n",
    "            magnitudeVals[h,w] = weakenAmplifiedMagnitude(magnitudeVals[h,w])\n",
    "            magnitudeVals[h,w] = (magnitudeVals[h,w] / (255*2) * magnitudeRange) + magnitudeMin\n",
    "    return magnitudeVals, phaseVals"
   ]
  },
  {
   "cell_type": "code",
   "execution_count": 8,
   "metadata": {},
   "outputs": [],
   "source": [
    "def generateSpectrogramForWave(signal):\n",
    "    start_time = time.time()\n",
    "    global magnitudeMin\n",
    "    global magnitudeMax\n",
    "    global phaseMin\n",
    "    global phaseMax\n",
    "    buffer = np.zeros(int(signal.size + WINDOW_STEP - (signal.size % WINDOW_STEP)))\n",
    "    buffer[0:len(signal)] = signal\n",
    "    height = int(FFT_LENGTH / 2 + 1)\n",
    "    width = int(len(buffer) / (WINDOW_STEP) - 1)\n",
    "    magnitudePixels = np.zeros((height, width))\n",
    "    phasePixels = np.zeros((height, width))\n",
    "\n",
    "    for w in range(width):\n",
    "        buff = np.zeros(FFT_LENGTH)\n",
    "        stepBuff = buffer[w*WINDOW_STEP:w*WINDOW_STEP + WINDOW_LENGTH]\n",
    "        # apply hanning window\n",
    "        stepBuff = stepBuff * np.hanning(WINDOW_LENGTH)\n",
    "        buff[0:len(stepBuff)] = stepBuff\n",
    "        #buff now contains windowed signal with step length and padded with zeroes to the end\n",
    "        fft = np.fft.rfft(buff)\n",
    "        for h in range(len(fft)):\n",
    "            #print(buff.shape)\n",
    "            #return\n",
    "            magnitude = math.sqrt(fft[h].real**2 + fft[h].imag**2)\n",
    "            if magnitude > magnitudeMax:\n",
    "                magnitudeMax = magnitude \n",
    "            if magnitude < magnitudeMin:\n",
    "                magnitudeMin = magnitude \n",
    "\n",
    "            phase = math.atan2(fft[h].imag, fft[h].real)\n",
    "            if phase > phaseMax:\n",
    "                phaseMax = phase\n",
    "            if phase < phaseMin:\n",
    "                phaseMin = phase\n",
    "            magnitudePixels[height-h-1,w] = magnitude\n",
    "            phasePixels[height-h-1,w] = phase\n",
    "    rgbArray = generateLinearScale(magnitudePixels, phasePixels,\n",
    "                                  magnitudeMin, magnitudeMax, phaseMin, phaseMax)\n",
    "    elapsed_time = time.time() - start_time\n",
    "    print('%.2f' % elapsed_time, 's', sep='')\n",
    "    img = Image.fromarray(rgbArray, 'RGB')\n",
    "    return img"
   ]
  },
  {
   "cell_type": "code",
   "execution_count": 9,
   "metadata": {},
   "outputs": [],
   "source": [
    "# Make Spectrogram "
   ]
  },
  {
   "cell_type": "code",
   "execution_count": 10,
   "metadata": {},
   "outputs": [],
   "source": [
    "WavPathA = './WAVA'\n",
    "WavPathB = './WAVB'\n",
    "SpecPathA = './SPECA'\n",
    "SpecPathB = './SPECB'\n",
    "SpecPathAB = './SPECAB'"
   ]
  },
  {
   "cell_type": "code",
   "execution_count": 11,
   "metadata": {},
   "outputs": [],
   "source": [
    "A_wav = os.path.join(WavPathA)\n",
    "B_wav = os.path.join(WavPathB)\n",
    "A_spec = os.path.join(SpecPathA)\n",
    "B_spec = os.path.join(SpecPathB)\n",
    "AB_spec = os.path.join(SpecPathAB)"
   ]
  },
  {
   "cell_type": "markdown",
   "metadata": {},
   "source": [
    "# Check Folder - WAVA and WAVB ( Delete all < 5 sec Wav Files)"
   ]
  },
  {
   "cell_type": "markdown",
   "metadata": {},
   "source": [
    "# Generate wav to spectogram"
   ]
  },
  {
   "cell_type": "code",
   "execution_count": 12,
   "metadata": {},
   "outputs": [],
   "source": [
    "wav_list_A = os.listdir(A_wav)\n",
    "num_wavs = len(wav_list_A)"
   ]
  },
  {
   "cell_type": "markdown",
   "metadata": {},
   "source": [
    "# Take 5 sec sample for making all spectogram of same height and width"
   ]
  },
  {
   "cell_type": "code",
   "execution_count": 29,
   "metadata": {},
   "outputs": [],
   "source": [
    "for n in range(num_wavs):\n",
    "    name_A = wav_list_A[n]\n",
    "    path_A = os.path.join(A_wav,name_A)\n",
    "    rate, data = wavfile.read(path_A)\n",
    "    # Average over windows.\n",
    "    if len(data.shape) >= 2 and data.size > 0:\n",
    "        if data.shape[-1] > 1:\n",
    "            data = data.mean(axis=-1)\n",
    "        else:\n",
    "            data = np.reshape(data, data.shape[:-1])\n",
    "    # Only use a short clip for our demo\n",
    "    if np.shape(data)[0] / float(rate) > 5:\n",
    "        data = data[0 : rate * 5]\n",
    "    img = generateSpectrogramForWave(data)\n",
    "    img.save(path_A[:-4]+'.png')"
   ]
  },
  {
   "cell_type": "code",
   "execution_count": 14,
   "metadata": {},
   "outputs": [],
   "source": [
    "wav_list_B = os.listdir(B_wav)\n",
    "num_wavs = len(wav_list_B)"
   ]
  },
  {
   "cell_type": "code",
   "execution_count": 28,
   "metadata": {},
   "outputs": [],
   "source": [
    "for n in range(num_wavs):\n",
    "    name_B = wav_list_B[n]\n",
    "    path_B = os.path.join(B_wav,name_B)\n",
    "    rate, data = wavfile.read(path_B)\n",
    "    # Average over windows.\n",
    "    if len(data.shape) >= 2 and data.size > 0:\n",
    "        if data.shape[-1] > 1:\n",
    "            data = data.mean(axis=-1)\n",
    "        else:\n",
    "            data = np.reshape(data, data.shape[:-1])\n",
    "    # Only use a short clip for our demo\n",
    "    if np.shape(data)[0] / float(rate) > 5:\n",
    "        data = data[0 : rate * 5]\n",
    "    img = generateSpectrogramForWave(data)\n",
    "    img.save(path_B[:-4]+'.png')"
   ]
  },
  {
   "cell_type": "code",
   "execution_count": 16,
   "metadata": {},
   "outputs": [],
   "source": [
    "import os\n",
    "from tqdm import tqdm\n",
    "import glob\n",
    "import shutil\n",
    "\n",
    "for filename in glob.glob(os.path.join(WavPathA, '*.png')):\n",
    "    shutil.copy(filename, SpecPathA)\n",
    "    os.remove(filename)\n",
    "\n",
    "\n",
    "for filename in glob.glob(os.path.join(WavPathB, '*.png')):\n",
    "    shutil.copy(filename, SpecPathB)\n",
    "    os.remove(filename)"
   ]
  },
  {
   "cell_type": "code",
   "execution_count": 17,
   "metadata": {},
   "outputs": [],
   "source": [
    "# import os\n",
    "# import numpy as np\n",
    "# from PIL import Image\n",
    "# import cv2\n",
    "\n",
    "# folderA = './SPECA'\n",
    "# img_fold_A = os.path.join(folderA)\n",
    "# img_list = os.listdir(img_fold_A)\n",
    "# num_imgs = len(img_list)\n",
    "\n",
    "# for n in range(num_imgs):\n",
    "#     name_A = img_list[n]\n",
    "#     name_B = name_A\n",
    "#     path_A = os.path.join(img_fold_A,name_A)\n",
    "#     im_A = Image.open(path_A)\n",
    "#     im_A = im_A.resize((HEIGHT,WIDTH))\n",
    "#     im_A.save(path_A)"
   ]
  },
  {
   "cell_type": "markdown",
   "metadata": {},
   "source": [
    "### Pix2Pix specification - Join A(noisy data) and B(clean speech)"
   ]
  },
  {
   "cell_type": "code",
   "execution_count": 27,
   "metadata": {},
   "outputs": [],
   "source": [
    "# JOIN A+B = AB\n",
    "\n",
    "import os\n",
    "import numpy as np\n",
    "from PIL import Image\n",
    "import cv2\n",
    "\n",
    "\n",
    "# define paths for translation from domain A (images in folderA) -> domain B (images in folderB)\n",
    "folderB = './SPECA'\n",
    "folderA = './SPECB'\n",
    "dest_path = './SPECAB'\n",
    "\n",
    "img_fold_A = os.path.join(folderA)\n",
    "img_fold_B = os.path.join(folderB)\n",
    "\n",
    "img_list = os.listdir(img_fold_A)\n",
    "num_imgs = len(img_list)\n",
    "\n",
    "img_fold_AB = os.path.join(dest_path)\n",
    "\n",
    "for n in range(num_imgs):\n",
    "    name_A = img_list[n]\n",
    "    name_B = name_A\n",
    "    path_A = os.path.join(img_fold_A,name_A)\n",
    "    path_B = os.path.join(img_fold_B,name_B)\n",
    "#     print(path_A,path_B)\n",
    "    if os.path.isfile(path_A) and os.path.isfile(path_B):\n",
    "        name_AB = name_A\n",
    "        path_AB = os.path.join(img_fold_AB, name_AB)\n",
    "        im_A1 = Image.open(path_A)\n",
    "        im_A = np.array(im_A1)\n",
    "        im_B1 = Image.open(path_B)\n",
    "        im_B = np.array(im_B1)\n",
    "        im_AB = np.concatenate([im_A, im_B], 1)\n",
    "        cv2.imwrite(path_AB, cv2.cvtColor(im_AB, cv2.COLOR_RGB2BGR))\n",
    "        print(\"Write AB::\",name_AB)"
   ]
  },
  {
   "cell_type": "markdown",
   "metadata": {},
   "source": [
    "# Recover wav from spectogram\n",
    "* Test recovery of wav"
   ]
  },
  {
   "cell_type": "code",
   "execution_count": 19,
   "metadata": {},
   "outputs": [],
   "source": [
    "rate = 16000"
   ]
  },
  {
   "cell_type": "code",
   "execution_count": 20,
   "metadata": {},
   "outputs": [],
   "source": [
    "def recoverSignalFromSpectrogram(filePath):\n",
    "    img = Image.open(filePath)\n",
    "    data = np.array( img, dtype='uint8' )\n",
    "    width = data.shape[1]\n",
    "    height = data.shape[0]\n",
    "\n",
    "    magnitudeVals, phaseVals \\\n",
    "    = recoverLinearScale(data, magnitudeMin, magnitudeMax, phaseMin, phaseMax)\n",
    "    \n",
    "    recovered = np.zeros(WINDOW_LENGTH * width // 2 + WINDOW_STEP, dtype=np.int16)\n",
    "    recovered = np.array(recovered,dtype=np.int16)\n",
    "    \n",
    "    for w in range(width):\n",
    "        toInverse = np.zeros(height, dtype=np.complex_)\n",
    "        for h in range(height):\n",
    "            magnitude = magnitudeVals[height-h-1,w]\n",
    "            phase = phaseVals[height-h-1,w]\n",
    "            toInverse[h] = magnitude * math.cos(phase) + (1j * magnitude * math.sin(phase))\n",
    "        signal = np.fft.irfft(toInverse)\n",
    "        recovered[w*WINDOW_STEP:w*WINDOW_STEP + WINDOW_LENGTH] += signal[:WINDOW_LENGTH].astype(np.int16)\n",
    "    return recovered"
   ]
  },
  {
   "cell_type": "code",
   "execution_count": 22,
   "metadata": {},
   "outputs": [],
   "source": [
    "SpecPathA = './SPECA'\n",
    "specAwave = os.path.join(SpecPathA)"
   ]
  },
  {
   "cell_type": "code",
   "execution_count": 30,
   "metadata": {},
   "outputs": [],
   "source": [
    "data = recoverSignalFromSpectrogram(specAwave+'/'+'mif_03397_01395384626.png')\n",
    "scipy.io.wavfile.write(specAwave+'/'+'recovered.wav', rate, data)"
   ]
  },
  {
   "cell_type": "code",
   "execution_count": null,
   "metadata": {},
   "outputs": [],
   "source": []
  },
  {
   "cell_type": "code",
   "execution_count": null,
   "metadata": {},
   "outputs": [],
   "source": []
  }
 ],
 "metadata": {
  "kernelspec": {
   "display_name": "Python 3",
   "language": "python",
   "name": "python3"
  },
  "language_info": {
   "codemirror_mode": {
    "name": "ipython",
    "version": 3
   },
   "file_extension": ".py",
   "mimetype": "text/x-python",
   "name": "python",
   "nbconvert_exporter": "python",
   "pygments_lexer": "ipython3",
   "version": "3.7.6"
  }
 },
 "nbformat": 4,
 "nbformat_minor": 4
}
