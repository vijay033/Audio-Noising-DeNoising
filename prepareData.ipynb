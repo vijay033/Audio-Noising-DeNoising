{
 "cells": [
  {
   "cell_type": "markdown",
   "metadata": {},
   "source": [
    "# Add Environmental Noises to The Audio ( speech )"
   ]
  },
  {
   "cell_type": "markdown",
   "metadata": {},
   "source": [
    "# Speech collected from the site - https://openslr.org/83/\n",
    "# Noise collected from the site - https://www.freesoundeffects.com/\n",
    "\n",
    "* Speech and Noise must be sampled at same rate - 16K ( make your own choice )\n",
    "* Noise samples must be greater than the speech sample so that \n",
    "* Maracas Library works with above two conditions (Same sampling rate & [len(noise) > len(speech)]  :   https://pypi.org/project/maracas/"
   ]
  },
  {
   "cell_type": "code",
   "execution_count": 1,
   "metadata": {},
   "outputs": [],
   "source": [
    "from maracas.dataset import Dataset\n",
    "import numpy as np"
   ]
  },
  {
   "cell_type": "code",
   "execution_count": 2,
   "metadata": {},
   "outputs": [],
   "source": [
    "speechPathA = './AWAV'\n",
    "speechPathB = './BWAV'\n",
    "NoisesA = './noisesA'\n",
    "NoisesB = './noisesB'\n",
    "NoiseSpeechWavB = './BWAVNOISE'"
   ]
  },
  {
   "cell_type": "code",
   "execution_count": 3,
   "metadata": {},
   "outputs": [],
   "source": [
    "import glob\n",
    "import os\n",
    "from tqdm import tqdm\n",
    "# plt, plot, tqdm\n",
    "import warnings\n",
    "warnings.filterwarnings('ignore')\n",
    "from scipy.io import wavfile\n",
    "import scipy.signal as sps\n",
    "import math"
   ]
  },
  {
   "cell_type": "markdown",
   "metadata": {},
   "source": [
    "# Down Sample the sampling rate to 16K"
   ]
  },
  {
   "cell_type": "markdown",
   "metadata": {},
   "source": [
    "* Make folder A for speech data\n",
    "* Down sample and dump speech with 16K sampled to folder B\n",
    "* Copy data in folder A and folder B initially with same wav files, downsample will replace files in folder B"
   ]
  },
  {
   "cell_type": "code",
   "execution_count": 27,
   "metadata": {},
   "outputs": [],
   "source": [
    "A = os.path.join(speechPathA)\n",
    "B = os.path.join(speechPathB)\n",
    "\n",
    "img_list = os.listdir(A)\n",
    "num_wavs = len(img_list)\n",
    "new_rate = 16000\n",
    "\n",
    "for n in range(num_wavs):\n",
    "    name_A = img_list[n]\n",
    "    name_B = name_A\n",
    "    path_A = os.path.join(A,name_A)\n",
    "    path_B = os.path.join(B,name_B)\n",
    "    print(path_A, path_B)\n",
    "    if os.path.isfile(path_A) and os.path.isfile(path_B):\n",
    "        sampling_rate, data = wavfile.read(path_A)\n",
    "#         print(sampling_rate)\n",
    "         # Resample data\n",
    "        number_of_samples = round(len(data) * float(new_rate) / sampling_rate)\n",
    "        data = sps.resample(data, number_of_samples)\n",
    "        data = np.asarray(data, dtype=np.int16)\n",
    "        wavfile.write(path_B,new_rate,data)\n",
    "#         sampling_rate, data = wavfile.read(path_B)\n",
    "#         print(sampling_rate)\n",
    "    else:\n",
    "        print(\"error\")"
   ]
  },
  {
   "cell_type": "markdown",
   "metadata": {},
   "source": [
    "# Resample noises to 16K"
   ]
  },
  {
   "cell_type": "code",
   "execution_count": 26,
   "metadata": {},
   "outputs": [],
   "source": [
    "A = os.path.join(NoisesA)\n",
    "B = os.path.join(NoisesB)\n",
    "\n",
    "img_list = os.listdir(A)\n",
    "num_wavs = len(img_list)\n",
    "new_rate = 16000\n",
    "\n",
    "print(num_wavs)\n",
    "\n",
    "for n in range(num_wavs):\n",
    "    name_A = img_list[n]\n",
    "    name_B = name_A\n",
    "    path_A = os.path.join(A,name_A)\n",
    "    path_B = os.path.join(B,name_B)\n",
    "    print(path_A, path_B)\n",
    "    if os.path.isfile(path_A) and os.path.isfile(path_B):\n",
    "        sampling_rate, data = wavfile.read(path_A)\n",
    "#         print(sampling_rate)\n",
    "         # Resample data\n",
    "        number_of_samples = round(len(data) * float(new_rate) / sampling_rate)\n",
    "        data = sps.resample(data, number_of_samples)\n",
    "        data = np.asarray(data, dtype=np.int16)\n",
    "        wavfile.write(path_B,new_rate,data)\n",
    "#         sampling_rate, data = wavfile.read(path_B)\n",
    "#         print(sampling_rate)\n",
    "    else:\n",
    "        print(\"error\")"
   ]
  },
  {
   "cell_type": "markdown",
   "metadata": {},
   "source": [
    "## Maintain sampling rate = 16K\n",
    "## Make All noise files longer than speech file##\n",
    "#### Find maximum length of the speech file in the datasets and keep length of the noise file more than maximum lenght of the speech file ( 50 sec added to noise )"
   ]
  },
  {
   "cell_type": "code",
   "execution_count": 25,
   "metadata": {},
   "outputs": [],
   "source": [
    "A = os.path.join(NoisesA)\n",
    "B = os.path.join(NoisesB)\n",
    "\n",
    "img_list = os.listdir(A)\n",
    "num_wavs = len(img_list)\n",
    "new_rate = 16000\n",
    "\n",
    "\n",
    "for n in range(num_wavs):\n",
    "    name_A = img_list[n]\n",
    "    name_B = name_A\n",
    "    path_A = os.path.join(A,name_A)\n",
    "    path_B = os.path.join(B,name_B)\n",
    "    print(path_A, path_B)\n",
    "    if os.path.isfile(path_A) and os.path.isfile(path_B):\n",
    "        sampling_rate, data = wavfile.read(path_A)\n",
    "        length_s = len(data)/float(sampling_rate)\n",
    "        if(length_s < 50.0):\n",
    "            n = math.ceil(50*sampling_rate/len(data))\n",
    "        data = np.tile(data,n)\n",
    "        \n",
    "        number_of_samples = round(len(data) * float(new_rate) / sampling_rate)\n",
    "        data = sps.resample(data, number_of_samples)\n",
    "        data = np.asarray(data, dtype=np.int16)\n",
    "        wavfile.write(path_B,new_rate,data)"
   ]
  },
  {
   "cell_type": "markdown",
   "metadata": {},
   "source": [
    "# Add Speech ( 16 K Sampled )"
   ]
  },
  {
   "cell_type": "code",
   "execution_count": 8,
   "metadata": {},
   "outputs": [],
   "source": [
    "# Make sure this is reproducible\n",
    "np.random.seed(42)\n",
    "\n",
    "d = Dataset()\n",
    "\n",
    "# All files can be added one by one or by folder. Adding a folder will add\n",
    "# all speech files inside that folder recursively if recursive=True.\n",
    "d.add_speech_files(speechPathB, recursive=True)"
   ]
  },
  {
   "cell_type": "markdown",
   "metadata": {},
   "source": [
    "# Add Noise with sampling rate = 16K & length greater than the speech"
   ]
  },
  {
   "cell_type": "code",
   "execution_count": 9,
   "metadata": {},
   "outputs": [],
   "source": [
    "# When adding noises, you can give a \"nickname\" to each noise file. If you do not\n",
    "# give it a name, the name will be the file name without the '.wav' extension\n",
    "d.add_noise_files(NoisesB)"
   ]
  },
  {
   "cell_type": "markdown",
   "metadata": {},
   "source": [
    "# Add maximum one noises in the speech under 5 different DB conditions"
   ]
  },
  {
   "cell_type": "code",
   "execution_count": 14,
   "metadata": {},
   "outputs": [],
   "source": [
    "# NoiseSpeechWavB = './BWAVNOISE'"
   ]
  },
  {
   "cell_type": "code",
   "execution_count": 24,
   "metadata": {
    "scrolled": true
   },
   "outputs": [],
   "source": [
    "# When generating a dataset, you can choose which SNRs will be used and how many\n",
    "# files per condition you want to be generated. \n",
    "for i in range(10): # run below lines multiple time\n",
    "    d.generate_dataset([-6, -3, 0, 3, 6], NoiseSpeechWavB, files_per_condition = 1)"
   ]
  },
  {
   "cell_type": "markdown",
   "metadata": {},
   "source": [
    "### Copy Speech + Noise File"
   ]
  },
  {
   "cell_type": "code",
   "execution_count": 19,
   "metadata": {},
   "outputs": [],
   "source": [
    "import os\n",
    "import shutil"
   ]
  },
  {
   "cell_type": "code",
   "execution_count": 20,
   "metadata": {},
   "outputs": [],
   "source": [
    "# copy noisy file to './BWAN' from NoiseSpeechWavB = './BWAVNOISE'"
   ]
  },
  {
   "cell_type": "code",
   "execution_count": 21,
   "metadata": {},
   "outputs": [],
   "source": [
    "DEST =  './BWAVN'\n",
    "DESTPATH = os.path.join(DEST)\n",
    "\n",
    "for root, dirs, files in os.walk(\"./BWAVNOISE\"):\n",
    "    for file in files:\n",
    "        if file.endswith(\".wav\"):\n",
    "#             print(file)\n",
    "            shutil.copy(os.path.join(root, file), DEST)"
   ]
  },
  {
   "cell_type": "markdown",
   "metadata": {},
   "source": [
    "### Target to make WAVA and WAVB folder for speech & speech+noise for same wav files\n",
    "* WAVA consists [clean speech] and WAVB consists of [speech+noise] for same wav files\n",
    "* Copy noisy wav files from BWAVN to WAVB\n",
    "* Check noise file names in WAVB and copy clean wav files matching to noise in WAVA"
   ]
  },
  {
   "cell_type": "code",
   "execution_count": 22,
   "metadata": {},
   "outputs": [],
   "source": [
    "# Copy noisy wav files from BWAVN to WAVB\n",
    "\n",
    "source = './BWAVN'\n",
    "destination = './WAVB'\n",
    "\n",
    "for filename in glob.glob(os.path.join(source, '*.wav')):\n",
    "    shutil.copy(filename, destination)"
   ]
  },
  {
   "cell_type": "code",
   "execution_count": 23,
   "metadata": {},
   "outputs": [],
   "source": [
    "# BWAV - find files which are present in WAVB(BWAVN)\n",
    "# WAVA, WAVB\n",
    "\n",
    "pathWavA = './WAVA'\n",
    "pathWavB = './WAVB'\n",
    "pathWavC =  './BWAV' # Original speech file sampled at 16K\n",
    "\n",
    "\n",
    "A = os.path.join(pathWavA)\n",
    "B = os.path.join(pathWavB)\n",
    "C = os.path.join(pathWavC)\n",
    "\n",
    "\n",
    "wav_list_C = os.listdir(C)\n",
    "num_wavs_C = len(wav_list_C)\n",
    "\n",
    "wav_list_B = os.listdir(B)\n",
    "num_wavs_B = len(wav_list_B)\n",
    "\n",
    "for m in range(num_wavs_C):\n",
    "    name_C = wav_list_C[m]\n",
    "    path_C = os.path.join(C,name_C)\n",
    "    if name_C.endswith(\".wav\"):\n",
    "        for n in range(num_wavs_B):\n",
    "            name_B = wav_list_B[n]\n",
    "            if name_B.endswith(\".wav\"):\n",
    "                if name_C == name_B :\n",
    "                    shutil.copy(path_C, pathWavA)\n",
    "                    break"
   ]
  },
  {
   "cell_type": "code",
   "execution_count": null,
   "metadata": {},
   "outputs": [],
   "source": []
  }
 ],
 "metadata": {
  "kernelspec": {
   "display_name": "Python 3",
   "language": "python",
   "name": "python3"
  },
  "language_info": {
   "codemirror_mode": {
    "name": "ipython",
    "version": 3
   },
   "file_extension": ".py",
   "mimetype": "text/x-python",
   "name": "python",
   "nbconvert_exporter": "python",
   "pygments_lexer": "ipython3",
   "version": "3.7.6"
  }
 },
 "nbformat": 4,
 "nbformat_minor": 4
}
